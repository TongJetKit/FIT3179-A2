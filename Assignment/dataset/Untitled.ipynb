{
 "cells": [
  {
   "cell_type": "code",
   "execution_count": 1,
   "id": "ea56ca1d",
   "metadata": {},
   "outputs": [],
   "source": [
    "import pandas as pd\n",
    "\n",
    "# Load your dataset\n",
    "df = pd.read_csv(\"dataset_clean.csv\")  # Replace with your dataset file path\n",
    "\n",
    "# Calculate the maximum happiness score for each year and region\n",
    "max_scores = df.groupby(['year', 'region'])['happiness_score'].transform('max')\n",
    "\n",
    "# Calculate the rankings based on the maximum happiness scores\n",
    "df['rank'] = df.groupby(['year', 'region'])['happiness_score'].rank(ascending=False)\n",
    "\n",
    "# Save the preprocessed data to a new CSV file\n",
    "df.to_csv(\"preprocessed_dataset.csv\", index=False)"
   ]
  },
  {
   "cell_type": "code",
   "execution_count": null,
   "id": "7d3939ea",
   "metadata": {},
   "outputs": [],
   "source": []
  }
 ],
 "metadata": {
  "kernelspec": {
   "display_name": "Python 3 (ipykernel)",
   "language": "python",
   "name": "python3"
  },
  "language_info": {
   "codemirror_mode": {
    "name": "ipython",
    "version": 3
   },
   "file_extension": ".py",
   "mimetype": "text/x-python",
   "name": "python",
   "nbconvert_exporter": "python",
   "pygments_lexer": "ipython3",
   "version": "3.9.7"
  }
 },
 "nbformat": 4,
 "nbformat_minor": 5
}
